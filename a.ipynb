{
 "cells": [
  {
   "cell_type": "code",
   "execution_count": 50,
   "metadata": {},
   "outputs": [
    {
     "name": "stdout",
     "output_type": "stream",
     "text": [
      "1--2--5--6\n",
      "30\n"
     ]
    }
   ],
   "source": [
    "def printpath(parent, vertex, target):\n",
    "\tif (vertex == 0):\n",
    "\t\treturn\n",
    "\tprintpath(parent, parent[vertex], target)\n",
    "\tprint(vertex ,end=\"\\n\" if (vertex == target) else \"--\")\n",
    "\n",
    "# Function to return the maximum weight\n",
    "# in the widest path of the given graph\n",
    "def maxMinCapacity(Graph, src, target):\n",
    "\t\n",
    "\t# To keep track of widest distance\n",
    "\twidest = [-10**9]*(len(Graph))\n",
    "\n",
    "\t# To get the path at the end of the algorithm\n",
    "\tparent = [0]*len(Graph)\n",
    "\n",
    "\t# Use of Minimum Priority Queue to keep track minimum\n",
    "\t# widest distance vertex so far in the algorithm\n",
    "\tcontainer = []\n",
    "\tcontainer.append((0, src))\n",
    "\twidest[src] = 10**9\n",
    "\tcontainer = sorted(container)\n",
    "\twhile (len(container)>0):\n",
    "\t\ttemp = container[-1]\n",
    "\t\tcurrent_src = temp[1]\n",
    "\t\tdel container[-1]\n",
    "\t\tfor vertex in Graph[current_src]:\n",
    "\n",
    "\t\t\t# Finding the widest distance to the vertex\n",
    "\t\t\t# using current_source vertex's widest distance and its widest distance so far\n",
    "\t\t\tdistance = max(widest[vertex[1]],\n",
    "\t\t\t\t\t\tmin(widest[current_src], vertex[0]))\n",
    "\n",
    "\t\t\t# Relaxation of edge and adding into Priority Queue\n",
    "\t\t\tif (distance > widest[vertex[1]]):\n",
    "\n",
    "\t\t\t\t# Updating bottle-neck distance\n",
    "\t\t\t\twidest[vertex[1]] = distance\n",
    "\n",
    "\t\t\t\t# To keep track of parent\n",
    "\t\t\t\tparent[vertex[1]] = current_src\n",
    "\n",
    "\t\t\t\t# Adding the relaxed edge in the priority queue\n",
    "\t\t\t\tcontainer.append((distance, vertex[1]))\n",
    "\t\t\t\tcontainer = sorted(container)\n",
    "\tprintpath(parent, target, target)\n",
    "    # \n",
    "\treturn widest[target]\n",
    "\n",
    "\n",
    "graph = [[] for i in range(7)]\n",
    "vertices = 6\n",
    "\n",
    "# (distance, vertex)\n",
    "graph[1].append((30, 2))\n",
    "graph[1].append((25, 3))\n",
    "graph[2].append((15, 4))\n",
    "graph[2].append((60, 5))\n",
    "graph[3].append((50, 4))\n",
    "graph[3].append((35, 5))\n",
    "graph[4].append((10, 6))\n",
    "graph[5].append((30, 6))\n",
    "\n",
    "print(maxMinCapacity(graph, 1, 6))"
   ]
  }
 ],
 "metadata": {
  "kernelspec": {
   "display_name": "Python 3.10.7 64-bit",
   "language": "python",
   "name": "python3"
  },
  "language_info": {
   "codemirror_mode": {
    "name": "ipython",
    "version": 3
   },
   "file_extension": ".py",
   "mimetype": "text/x-python",
   "name": "python",
   "nbconvert_exporter": "python",
   "pygments_lexer": "ipython3",
   "version": "3.10.7"
  },
  "orig_nbformat": 4,
  "vscode": {
   "interpreter": {
    "hash": "13e83de3a06b505ae4faa04a0010c2b37764ed4e66da30b6776955c802e0f32d"
   }
  }
 },
 "nbformat": 4,
 "nbformat_minor": 2
}
